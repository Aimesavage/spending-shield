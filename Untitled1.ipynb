{
 "cells": [
  {
   "cell_type": "code",
   "execution_count": 1,
   "id": "3ea1e372-d97b-4d1c-b60c-8d2811dd3ea5",
   "metadata": {},
   "outputs": [],
   "source": [
    "import pandas as pd"
   ]
  },
  {
   "cell_type": "code",
   "execution_count": 2,
   "id": "b3138d4f-f7ed-4639-b921-e565ed4030d3",
   "metadata": {},
   "outputs": [],
   "source": [
    "df = pd.read_json(\"response.json\")"
   ]
  },
  {
   "cell_type": "code",
   "execution_count": 3,
   "id": "6599c70d-6745-4fbe-89b5-9ce74c530692",
   "metadata": {},
   "outputs": [
    {
     "data": {
      "text/html": [
       "<div>\n",
       "<style scoped>\n",
       "    .dataframe tbody tr th:only-of-type {\n",
       "        vertical-align: middle;\n",
       "    }\n",
       "\n",
       "    .dataframe tbody tr th {\n",
       "        vertical-align: top;\n",
       "    }\n",
       "\n",
       "    .dataframe thead th {\n",
       "        text-align: right;\n",
       "    }\n",
       "</style>\n",
       "<table border=\"1\" class=\"dataframe\">\n",
       "  <thead>\n",
       "    <tr style=\"text-align: right;\">\n",
       "      <th></th>\n",
       "      <th>_id</th>\n",
       "      <th>name</th>\n",
       "      <th>category</th>\n",
       "      <th>geocode</th>\n",
       "      <th>address</th>\n",
       "      <th>creation_date</th>\n",
       "    </tr>\n",
       "  </thead>\n",
       "  <tbody>\n",
       "    <tr>\n",
       "      <th>0</th>\n",
       "      <td>57cf75cea73e494d8675ec4a</td>\n",
       "      <td>Pastimes Antiques</td>\n",
       "      <td>[furniture_store, home_goods_store, store, poi...</td>\n",
       "      <td>{'lat': 35.909, 'lng': -79.046}</td>\n",
       "      <td>{'street_number': 'hellooo'}</td>\n",
       "      <td>NaN</td>\n",
       "    </tr>\n",
       "    <tr>\n",
       "      <th>1</th>\n",
       "      <td>57cf75cea73e494d8675ec49</td>\n",
       "      <td>Apple</td>\n",
       "      <td>[tech, phones, laptop]</td>\n",
       "      <td>{'lat': 34.98, 'lng': -79.48}</td>\n",
       "      <td>{'street_number': '435', 'street_name': 'Apple...</td>\n",
       "      <td>NaN</td>\n",
       "    </tr>\n",
       "    <tr>\n",
       "      <th>2</th>\n",
       "      <td>57cf75cea73e494d8675ec4b</td>\n",
       "      <td>Ithaca Farmers' Market</td>\n",
       "      <td>[food, point_of_interest, establishment]</td>\n",
       "      <td>{'lat': 47.987, 'lng': -76.036}</td>\n",
       "      <td>{'street_number': '5901', 'street_name': 'Sout...</td>\n",
       "      <td>NaN</td>\n",
       "    </tr>\n",
       "    <tr>\n",
       "      <th>3</th>\n",
       "      <td>57cf75cea73e494d8675ec4c</td>\n",
       "      <td>Taughannock Farms Inn</td>\n",
       "      <td>[Lodging]</td>\n",
       "      <td>{'lat': 42.54457119999999, 'lng': -76.5983802}</td>\n",
       "      <td>{'zip': '14886', 'city': 'Trumansburg', 'stree...</td>\n",
       "      <td>NaN</td>\n",
       "    </tr>\n",
       "    <tr>\n",
       "      <th>4</th>\n",
       "      <td>57cf75cea73e494d8675ec4d</td>\n",
       "      <td>Ithaca Bakery</td>\n",
       "      <td>[cafe, bakery, meal_takeaway, restaurant, food...</td>\n",
       "      <td>{'lat': 42.44261090000001, 'lng': -76.5086618}</td>\n",
       "      <td>{'zip': '14850', 'city': 'Ithaca', 'street num...</td>\n",
       "      <td>NaN</td>\n",
       "    </tr>\n",
       "  </tbody>\n",
       "</table>\n",
       "</div>"
      ],
      "text/plain": [
       "                        _id                    name  \\\n",
       "0  57cf75cea73e494d8675ec4a       Pastimes Antiques   \n",
       "1  57cf75cea73e494d8675ec49                   Apple   \n",
       "2  57cf75cea73e494d8675ec4b  Ithaca Farmers' Market   \n",
       "3  57cf75cea73e494d8675ec4c   Taughannock Farms Inn   \n",
       "4  57cf75cea73e494d8675ec4d           Ithaca Bakery   \n",
       "\n",
       "                                            category  \\\n",
       "0  [furniture_store, home_goods_store, store, poi...   \n",
       "1                             [tech, phones, laptop]   \n",
       "2           [food, point_of_interest, establishment]   \n",
       "3                                          [Lodging]   \n",
       "4  [cafe, bakery, meal_takeaway, restaurant, food...   \n",
       "\n",
       "                                          geocode  \\\n",
       "0                 {'lat': 35.909, 'lng': -79.046}   \n",
       "1                   {'lat': 34.98, 'lng': -79.48}   \n",
       "2                 {'lat': 47.987, 'lng': -76.036}   \n",
       "3  {'lat': 42.54457119999999, 'lng': -76.5983802}   \n",
       "4  {'lat': 42.44261090000001, 'lng': -76.5086618}   \n",
       "\n",
       "                                             address creation_date  \n",
       "0                       {'street_number': 'hellooo'}           NaN  \n",
       "1  {'street_number': '435', 'street_name': 'Apple...           NaN  \n",
       "2  {'street_number': '5901', 'street_name': 'Sout...           NaN  \n",
       "3  {'zip': '14886', 'city': 'Trumansburg', 'stree...           NaN  \n",
       "4  {'zip': '14850', 'city': 'Ithaca', 'street num...           NaN  "
      ]
     },
     "execution_count": 3,
     "metadata": {},
     "output_type": "execute_result"
    }
   ],
   "source": [
    "df.head()"
   ]
  },
  {
   "cell_type": "code",
   "execution_count": 12,
   "id": "93c2991b-b729-4dc5-bd61-1a827170df09",
   "metadata": {},
   "outputs": [
    {
     "data": {
      "text/plain": [
       "(2925,)"
      ]
     },
     "execution_count": 12,
     "metadata": {},
     "output_type": "execute_result"
    }
   ],
   "source": [
    "df[\"name\"].unique().shape"
   ]
  }
 ],
 "metadata": {
  "kernelspec": {
   "display_name": "Python 3 (ipykernel)",
   "language": "python",
   "name": "python3"
  },
  "language_info": {
   "codemirror_mode": {
    "name": "ipython",
    "version": 3
   },
   "file_extension": ".py",
   "mimetype": "text/x-python",
   "name": "python",
   "nbconvert_exporter": "python",
   "pygments_lexer": "ipython3",
   "version": "3.12.7"
  }
 },
 "nbformat": 4,
 "nbformat_minor": 5
}
