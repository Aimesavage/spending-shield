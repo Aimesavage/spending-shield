{
 "cells": [
  {
   "cell_type": "markdown",
   "id": "89173701-0e3a-4fe3-9985-0e0a6a4f7082",
   "metadata": {},
   "source": [
    "# Import modules"
   ]
  },
  {
   "cell_type": "code",
   "execution_count": 45,
   "id": "d729200e-627d-43bc-9791-4f051065e185",
   "metadata": {},
   "outputs": [
    {
     "name": "stdout",
     "output_type": "stream",
     "text": [
      "Requirement already satisfied: streamlit in /opt/homebrew/anaconda3/lib/python3.12/site-packages (1.38.0)\n",
      "Requirement already satisfied: altair<6,>=4.0 in /opt/homebrew/anaconda3/lib/python3.12/site-packages (from streamlit) (5.0.1)\n",
      "Requirement already satisfied: blinker<2,>=1.0.0 in /opt/homebrew/anaconda3/lib/python3.12/site-packages (from streamlit) (1.6.2)\n",
      "Requirement already satisfied: cachetools<6,>=4.0 in /opt/homebrew/anaconda3/lib/python3.12/site-packages (from streamlit) (5.3.3)\n",
      "Requirement already satisfied: click<9,>=7.0 in /opt/homebrew/anaconda3/lib/python3.12/site-packages (from streamlit) (8.1.7)\n",
      "Requirement already satisfied: numpy<3,>=1.20 in /opt/homebrew/anaconda3/lib/python3.12/site-packages (from streamlit) (1.26.4)\n",
      "Requirement already satisfied: packaging<25,>=20 in /opt/homebrew/anaconda3/lib/python3.12/site-packages (from streamlit) (24.1)\n",
      "Requirement already satisfied: pandas<3,>=1.3.0 in /opt/homebrew/anaconda3/lib/python3.12/site-packages (from streamlit) (2.2.2)\n",
      "Requirement already satisfied: pillow<11,>=7.1.0 in /opt/homebrew/anaconda3/lib/python3.12/site-packages (from streamlit) (10.4.0)\n",
      "Requirement already satisfied: protobuf<6,>=3.20 in /opt/homebrew/anaconda3/lib/python3.12/site-packages (from streamlit) (4.25.3)\n",
      "Requirement already satisfied: pyarrow>=7.0 in /opt/homebrew/anaconda3/lib/python3.12/site-packages (from streamlit) (16.1.0)\n",
      "Requirement already satisfied: requests<3,>=2.27 in /opt/homebrew/anaconda3/lib/python3.12/site-packages (from streamlit) (2.32.3)\n",
      "Requirement already satisfied: rich<14,>=10.14.0 in /opt/homebrew/anaconda3/lib/python3.12/site-packages (from streamlit) (13.7.1)\n",
      "Requirement already satisfied: tenacity<9,>=8.1.0 in /opt/homebrew/anaconda3/lib/python3.12/site-packages (from streamlit) (8.2.3)\n",
      "Requirement already satisfied: toml<2,>=0.10.1 in /opt/homebrew/anaconda3/lib/python3.12/site-packages (from streamlit) (0.10.2)\n",
      "Requirement already satisfied: typing-extensions<5,>=4.3.0 in /opt/homebrew/anaconda3/lib/python3.12/site-packages (from streamlit) (4.11.0)\n",
      "Requirement already satisfied: gitpython!=3.1.19,<4,>=3.0.7 in /opt/homebrew/anaconda3/lib/python3.12/site-packages (from streamlit) (3.1.43)\n",
      "Requirement already satisfied: pydeck<1,>=0.8.0b4 in /opt/homebrew/anaconda3/lib/python3.12/site-packages (from streamlit) (0.8.0)\n",
      "Requirement already satisfied: tornado<7,>=6.0.3 in /opt/homebrew/anaconda3/lib/python3.12/site-packages (from streamlit) (6.4.1)\n",
      "Requirement already satisfied: jinja2 in /opt/homebrew/anaconda3/lib/python3.12/site-packages (from altair<6,>=4.0->streamlit) (3.1.4)\n",
      "Requirement already satisfied: jsonschema>=3.0 in /opt/homebrew/anaconda3/lib/python3.12/site-packages (from altair<6,>=4.0->streamlit) (4.23.0)\n",
      "Requirement already satisfied: toolz in /opt/homebrew/anaconda3/lib/python3.12/site-packages (from altair<6,>=4.0->streamlit) (0.12.0)\n",
      "Requirement already satisfied: gitdb<5,>=4.0.1 in /opt/homebrew/anaconda3/lib/python3.12/site-packages (from gitpython!=3.1.19,<4,>=3.0.7->streamlit) (4.0.7)\n",
      "Requirement already satisfied: python-dateutil>=2.8.2 in /opt/homebrew/anaconda3/lib/python3.12/site-packages (from pandas<3,>=1.3.0->streamlit) (2.9.0.post0)\n",
      "Requirement already satisfied: pytz>=2020.1 in /opt/homebrew/anaconda3/lib/python3.12/site-packages (from pandas<3,>=1.3.0->streamlit) (2024.1)\n",
      "Requirement already satisfied: tzdata>=2022.7 in /opt/homebrew/anaconda3/lib/python3.12/site-packages (from pandas<3,>=1.3.0->streamlit) (2023.3)\n",
      "Requirement already satisfied: charset-normalizer<4,>=2 in /opt/homebrew/anaconda3/lib/python3.12/site-packages (from requests<3,>=2.27->streamlit) (3.3.2)\n",
      "Requirement already satisfied: idna<4,>=2.5 in /opt/homebrew/anaconda3/lib/python3.12/site-packages (from requests<3,>=2.27->streamlit) (3.7)\n",
      "Requirement already satisfied: urllib3<3,>=1.21.1 in /opt/homebrew/anaconda3/lib/python3.12/site-packages (from requests<3,>=2.27->streamlit) (2.2.3)\n",
      "Requirement already satisfied: certifi>=2017.4.17 in /opt/homebrew/anaconda3/lib/python3.12/site-packages (from requests<3,>=2.27->streamlit) (2024.8.30)\n",
      "Requirement already satisfied: markdown-it-py>=2.2.0 in /opt/homebrew/anaconda3/lib/python3.12/site-packages (from rich<14,>=10.14.0->streamlit) (2.2.0)\n",
      "Requirement already satisfied: pygments<3.0.0,>=2.13.0 in /opt/homebrew/anaconda3/lib/python3.12/site-packages (from rich<14,>=10.14.0->streamlit) (2.15.1)\n",
      "Requirement already satisfied: smmap<5,>=3.0.1 in /opt/homebrew/anaconda3/lib/python3.12/site-packages (from gitdb<5,>=4.0.1->gitpython!=3.1.19,<4,>=3.0.7->streamlit) (4.0.0)\n",
      "Requirement already satisfied: MarkupSafe>=2.0 in /opt/homebrew/anaconda3/lib/python3.12/site-packages (from jinja2->altair<6,>=4.0->streamlit) (2.1.3)\n",
      "Requirement already satisfied: attrs>=22.2.0 in /opt/homebrew/anaconda3/lib/python3.12/site-packages (from jsonschema>=3.0->altair<6,>=4.0->streamlit) (24.2.0)\n",
      "Requirement already satisfied: jsonschema-specifications>=2023.03.6 in /opt/homebrew/anaconda3/lib/python3.12/site-packages (from jsonschema>=3.0->altair<6,>=4.0->streamlit) (2023.7.1)\n",
      "Requirement already satisfied: referencing>=0.28.4 in /opt/homebrew/anaconda3/lib/python3.12/site-packages (from jsonschema>=3.0->altair<6,>=4.0->streamlit) (0.30.2)\n",
      "Requirement already satisfied: rpds-py>=0.7.1 in /opt/homebrew/anaconda3/lib/python3.12/site-packages (from jsonschema>=3.0->altair<6,>=4.0->streamlit) (0.10.6)\n",
      "Requirement already satisfied: mdurl~=0.1 in /opt/homebrew/anaconda3/lib/python3.12/site-packages (from markdown-it-py>=2.2.0->rich<14,>=10.14.0->streamlit) (0.1.0)\n",
      "Requirement already satisfied: six>=1.5 in /opt/homebrew/anaconda3/lib/python3.12/site-packages (from python-dateutil>=2.8.2->pandas<3,>=1.3.0->streamlit) (1.16.0)\n"
     ]
    }
   ],
   "source": [
    "# Import the required module\n",
    "pip install fastapi uvicorn\n",
    "pip install streamlit\n",
    "\n",
    "import pickle\n",
    "import pandas as pd\n",
    "import numpy as np\n",
    "from collections import defaultdict\n",
    "from ast import literal_eval\n",
    "from sklearn.preprocessing import LabelEncoder, MinMaxScaler\n",
    "from sklearn.ensemble import IsolationForest\n",
    "import matplotlib.pyplot as plt"
   ]
  },
  {
   "cell_type": "markdown",
   "id": "4622685c-72b7-44f5-aca9-287bea4dd742",
   "metadata": {},
   "source": [
    "# Data prepocessing"
   ]
  },
  {
   "cell_type": "code",
   "execution_count": 46,
   "id": "439b6803-1cde-4a80-977c-9406490453d1",
   "metadata": {},
   "outputs": [],
   "source": [
    "df = pd.read_csv(\"synthetic_fraud_data.csv\")\n",
    "\n",
    "# Drop unnecessary columns\n",
    "columns_to_drop = [\n",
    "    'card_number', 'currency', 'device', 'device_fingerprint', \n",
    "    'ip_address', 'high_risk_merchant', 'is_fraud'\n",
    "]\n",
    "\n",
    "df_cleaned = df.drop(columns=columns_to_drop)\n",
    "\n",
    "# Display the first few rows after dropping\n",
    "df_cleaned.head()\n",
    "\n",
    "df_cleaned[\"timestamp\"] = pd.to_datetime(df_cleaned[\"timestamp\"], format='mixed')\n",
    "\n",
    "\n",
    "# Extract date-based features\n",
    "df_cleaned['transaction_day'] = df_cleaned['timestamp'].dt.day\n",
    "df_cleaned['transaction_weekday'] = df_cleaned['timestamp'].dt.weekday  # 0=Monday, 6=Sunday\n",
    "df_cleaned['transaction_month'] = df_cleaned['timestamp'].dt.month\n",
    "\n",
    "# Extract 'velocity_last_hour' JSON-like data into separate columns\n",
    "df_cleaned['velocity_last_hour'] = df_cleaned['velocity_last_hour'].apply(literal_eval)  # Convert string to dictionary\n",
    "\n",
    "\n",
    "\n",
    "# Extract features from 'velocity_last_hour'\n",
    "df_cleaned['num_transactions_last_hour'] = df_cleaned['velocity_last_hour'].apply(lambda x: x.get('num_transactions', 0))\n",
    "df_cleaned['total_spent_last_hour'] = df_cleaned['velocity_last_hour'].apply(lambda x: x.get('total_amount', 0))\n",
    "\n",
    "\n",
    "# Drop the original 'velocity_last_hour' column\n",
    "df_cleaned = df_cleaned.drop(columns=['velocity_last_hour'])\n",
    "\n",
    "\n",
    "\n",
    "# Select categorical columns to encode\n",
    "categorical_columns = ['merchant_category', 'merchant_type', 'merchant', 'city', 'city_size', 'card_type', 'channel']\n",
    "\n",
    "# Apply Label Encoding to categorical columns\n",
    "label_encoders = {}\n",
    "for col in categorical_columns:\n",
    "    le = LabelEncoder()\n",
    "    df_cleaned[col] = le.fit_transform(df_cleaned[col])\n",
    "    label_encoders[col] = le  # Store encoder for future reference\n",
    "\n",
    "# Select numerical columns for normalization\n",
    "numerical_columns = ['amount', 'distance_from_home', 'num_transactions_last_hour', 'total_spent_last_hour']\n",
    "\n",
    "# Apply Min-Max Scaling to normalize numerical data\n",
    "scaler = MinMaxScaler()\n",
    "df_cleaned[numerical_columns] = scaler.fit_transform(df_cleaned[numerical_columns])\n",
    "\n",
    "df_cleaned.to_csv(\"data.csv\")\n"
   ]
  },
  {
   "cell_type": "markdown",
   "id": "7c2f1efa-52e3-4798-900c-9a1e59cca7d7",
   "metadata": {},
   "source": [
    "# Fit"
   ]
  },
  {
   "cell_type": "code",
   "execution_count": 27,
   "id": "4771bc28-7e90-4303-931b-b9167e5d2c6e",
   "metadata": {},
   "outputs": [],
   "source": [
    "df_cleaned2 = df_cleaned"
   ]
  },
  {
   "cell_type": "code",
   "execution_count": 28,
   "id": "703b1fc6-7c61-4fe8-9904-c7be6ad1ab57",
   "metadata": {},
   "outputs": [],
   "source": [
    "features_for_model = ['amount', 'merchant_category', 'merchant_type', 'num_transactions_last_hour', 'total_spent_last_hour']\n",
    "\n",
    "# # Train Isolation Forest model\n",
    "iso_forest = IsolationForest(n_estimators=100, contamination=0.05, random_state=42)  # 5% transactions marked as anomalies\n",
    "df_cleaned['overspending_flag'] = iso_forest.fit_predict(df_cleaned[features_for_model])\n",
    "\n",
    "with open(\"isolation_forest_model.pkl\", \"wb\") as model_file:\n",
    "    pickle.dump(iso_forest, model_file)\n"
   ]
  },
  {
   "cell_type": "code",
   "execution_count": 29,
   "id": "93e1117e-8bd0-42c5-a2a3-0077c3c38d19",
   "metadata": {},
   "outputs": [],
   "source": [
    "# # Select relevant features for anomaly detection\n",
    "features_for_model = ['amount', 'merchant_category', 'merchant_type', 'num_transactions_last_hour', 'total_spent_last_hour']\n",
    "\n",
    "# # Train Isolation Forest model\n",
    "iso_forest2 = IsolationForest(n_estimators=100, contamination=0.05, random_state=42)  # 5% transactions marked as anomalies\n",
    "\n",
    "df_cleaned2['overspending_flag'] = iso_forest2.fit_predict(df_cleaned2[features_for_model])\n",
    "\n",
    "\n",
    "# # Convert output: -1 (Anomaly) → 1 (Overspending), 1 (Normal) → 0 (Normal Spending)\n",
    "df_cleaned2['overspending_flag'] = df_cleaned2['overspending_flag'].apply(lambda x: 1 if x == -1 else 0)\n",
    "\n"
   ]
  },
  {
   "cell_type": "code",
   "execution_count": 30,
   "id": "42e825cb-9876-48b8-abe8-d234cd1c4efc",
   "metadata": {},
   "outputs": [
    {
     "data": {
      "image/png": "[encoded data removed]",
      "text/plain": [
       "<Figure size 1000x500 with 1 Axes>"
      ]
     },
     "metadata": {},
     "output_type": "display_data"
    },
    {
     "data": {
      "text/plain": [
       "4.999982629066702"
      ]
     },
     "execution_count": 30,
     "metadata": {},
     "output_type": "execute_result"
    }
   ],
   "source": [
    "# 1️⃣ Calculate overall overspending rate\n",
    "total_transactions = df_cleaned.shape[0]\n",
    "overspending_transactions = df_cleaned['overspending_flag'].sum()\n",
    "overspending_rate = (overspending_transactions / total_transactions) * 100\n",
    "\n",
    "# 2️⃣ Identify top categories with overspending transactions\n",
    "top_overspending_categories = df_cleaned[df_cleaned['overspending_flag'] == 1] \\\n",
    "    .groupby('merchant_category')['overspending_flag'] \\\n",
    "    .count() \\\n",
    "    .sort_values(ascending=False)\n",
    "\n",
    "# Plot top overspending categories\n",
    "plt.figure(figsize=(10, 5))\n",
    "top_overspending_categories.head(10).plot(kind='bar', color='red', alpha=0.7)\n",
    "plt.title(\"Top Spending Categories with Overspending Transactions\")\n",
    "plt.xlabel(\"Merchant Category\")\n",
    "plt.ylabel(\"Number of Overspending Transactions\")\n",
    "plt.xticks(rotation=45)\n",
    "plt.grid(axis=\"y\", linestyle=\"--\", alpha=0.6)\n",
    "plt.show()\n",
    "\n",
    "# Display overall overspending rate\n",
    "overspending_rate\n"
   ]
  },
  {
   "cell_type": "code",
   "execution_count": 42,
   "id": "04b2533d-a139-4d22-9620-b2a08f8ce705",
   "metadata": {},
   "outputs": [
    {
     "data": {
      "text/plain": [
       "array(['Travel', 'Education', 'Retail', 'Entertainment', 'Restaurant',\n",
       "       'Gas', 'Healthcare', 'Grocery'], dtype=object)"
      ]
     },
     "execution_count": 42,
     "metadata": {},
     "output_type": "execute_result"
    }
   ],
   "source": [
    "label_encoders['merchant_category'].inverse_transform([7, 0,6,1,5,2,4,3])"
   ]
  },
  {
   "cell_type": "code",
   "execution_count": 36,
   "id": "85ad26f9-0ffb-4a80-bddd-05a44bc15605",
   "metadata": {},
   "outputs": [
    {
     "data": {
      "text/plain": [
       "['__call__',\n",
       " '__class__',\n",
       " '__delattr__',\n",
       " '__dir__',\n",
       " '__doc__',\n",
       " '__eq__',\n",
       " '__format__',\n",
       " '__ge__',\n",
       " '__getattribute__',\n",
       " '__getstate__',\n",
       " '__gt__',\n",
       " '__hash__',\n",
       " '__init__',\n",
       " '__init_subclass__',\n",
       " '__le__',\n",
       " '__lt__',\n",
       " '__module__',\n",
       " '__name__',\n",
       " '__ne__',\n",
       " '__new__',\n",
       " '__qualname__',\n",
       " '__reduce__',\n",
       " '__reduce_ex__',\n",
       " '__repr__',\n",
       " '__self__',\n",
       " '__setattr__',\n",
       " '__sizeof__',\n",
       " '__str__',\n",
       " '__subclasshook__',\n",
       " '__text_signature__']"
      ]
     },
     "execution_count": 36,
     "metadata": {},
     "output_type": "execute_result"
    }
   ],
   "source": []
  }
 ],
 "metadata": {
  "kernelspec": {
   "display_name": "Python 3 (ipykernel)",
   "language": "python",
   "name": "python3"
  },
  "language_info": {
   "codemirror_mode": {
    "name": "ipython",
    "version": 3
   },
   "file_extension": ".py",
   "mimetype": "text/x-python",
   "name": "python",
   "nbconvert_exporter": "python",
   "pygments_lexer": "ipython3",
   "version": "3.12.7"
  }
 },
 "nbformat": 4,
 "nbformat_minor": 5
}
